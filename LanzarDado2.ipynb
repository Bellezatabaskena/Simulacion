{
  "nbformat": 4,
  "nbformat_minor": 0,
  "metadata": {
    "colab": {
      "provenance": [],
      "authorship_tag": "ABX9TyOvQMKrpNx/re3QENjwurlX",
      "include_colab_link": true
    },
    "kernelspec": {
      "name": "python3",
      "display_name": "Python 3"
    },
    "language_info": {
      "name": "python"
    }
  },
  "cells": [
    {
      "cell_type": "markdown",
      "metadata": {
        "id": "view-in-github",
        "colab_type": "text"
      },
      "source": [
        "<a href=\"https://colab.research.google.com/github/Bellezatabaskena/Simulacion/blob/main/LanzarDado2.ipynb\" target=\"_parent\"><img src=\"https://colab.research.google.com/assets/colab-badge.svg\" alt=\"Open In Colab\"/></a>"
      ]
    },
    {
      "cell_type": "code",
      "execution_count": 7,
      "metadata": {
        "colab": {
          "base_uri": "https://localhost:8080/"
        },
        "id": "8R3vNLMSCy-j",
        "outputId": "4b8df7d6-42c5-4f29-c557-a99153e7a221"
      },
      "outputs": [
        {
          "output_type": "stream",
          "name": "stdout",
          "text": [
            "[1, 3, 6, 3, 5, 6, 1, 1, 5, 5, 1, 4, 4, 4, 4, 6, 6, 4, 6, 2, 4, 5, 2, 3, 4, 3, 1, 3, 4, 1, 2, 1, 4, 1, 4, 4, 1, 3, 6, 4, 1, 1, 5, 6, 5, 1, 5, 3, 6, 3, 1, 5, 2, 6, 3, 4, 4, 1, 5, 2, 1, 3, 1, 1, 3, 2, 5, 1, 6, 4, 3, 4, 3, 4, 5, 2, 2, 3, 1, 2, 3, 3, 3, 3, 6, 1, 6, 2, 4, 5, 3, 1, 5, 5, 4, 6, 3, 6, 1, 1]\n"
          ]
        }
      ],
      "source": [
        "from types import DynamicClassAttribute\n",
        "import random\n",
        "\n",
        "def dice():\n",
        "      dado = []\n",
        "      for i in range(100):\n",
        "          dado.append(random.choice(range(1,7)))\n",
        "      return dado\n",
        "\n",
        "print (dice())\n"
      ]
    }
  ]
}