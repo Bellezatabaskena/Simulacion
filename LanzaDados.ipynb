{
  "nbformat": 4,
  "nbformat_minor": 0,
  "metadata": {
    "colab": {
      "provenance": [],
      "authorship_tag": "ABX9TyMZkZdhpLKa0EvAha0d+iE+",
      "include_colab_link": true
    },
    "kernelspec": {
      "name": "python3",
      "display_name": "Python 3"
    },
    "language_info": {
      "name": "python"
    }
  },
  "cells": [
    {
      "cell_type": "markdown",
      "metadata": {
        "id": "view-in-github",
        "colab_type": "text"
      },
      "source": [
        "<a href=\"https://colab.research.google.com/github/Bellezatabaskena/Simulacion/blob/main/LanzaDados.ipynb\" target=\"_parent\"><img src=\"https://colab.research.google.com/assets/colab-badge.svg\" alt=\"Open In Colab\"/></a>"
      ]
    },
    {
      "cell_type": "markdown",
      "source": [
        "Este es mi codigo de un simulador que lanza dados aleatoriamente,mediante el uso de la libreria random, la  cual genera numeros pseudoaleatorios, y después suma el total de los dados por cada lanzada.\n",
        "\n",
        "Posteriormente tiene un ciclo while el cual siempre y cuando que se seleccione\n",
        "la letra \"S\", seguira lanzando los dados, al menos que se indique lo contrario,\n",
        "es cuando se detendrá por completo la simulación."
      ],
      "metadata": {
        "id": "-0CRYSTdjd98"
      }
    },
    {
      "cell_type": "code",
      "execution_count": null,
      "metadata": {
        "colab": {
          "base_uri": "https://localhost:8080/"
        },
        "id": "j5GKoBB-39wA",
        "outputId": "98827e93-90c9-448e-fd62-e3eb1b22ccac"
      },
      "outputs": [
        {
          "name": "stdout",
          "output_type": "stream",
          "text": [
            "♥♥♥♥♥♥♥♥♥♥♥♥♥♥♥♥♥♥♥♥♥♥♥♥♥♥♥♥♥♥♥♥♥♥♥♥♥♥♥♥♥♥♥♥♥♥♥♥♥♥♥♥♥♥♥♥♥♥♥♥♥♥\n",
            "Hola, ¿cual es su nombre?: Prof. Monzón\n",
            "Bienvenido al Simulador de Lanzamiento de Dados Prof. Monzón\n",
            "\n",
            "♥♥♥♥♥♥♥♥♥♥♥♥♥♥♥♥♥♥♥♥♥♥♥♥♥♥♥♥♥♥♥♥♥♥♥♥♥♥♥♥♥♥♥♥♥♥♥♥♥♥♥♥♥♥♥♥♥♥♥♥♥♥\n",
            "¿Desea lanzar los dados?: S/N   S\n",
            "El dado uno, cayó en: 6 y el dado dos, cayó en: 1\n",
            "La suma de los dados lanzados es: 7\n",
            "\n",
            "♥♥♥♥♥♥♥♥♥♥♥♥♥♥♥♥♥♥♥♥♥♥♥♥♥♥♥♥♥♥♥♥♥♥♥♥♥♥♥♥♥♥♥♥♥♥♥♥♥♥♥♥♥♥♥♥♥♥♥♥♥♥\n",
            "¿Desea lanzar los dados nuevamente?: S/N      S\n",
            "El dado uno, cayó en: 5 y el dado dos, cayó en: 5\n",
            "La suma de los dados lanzados es: 10\n",
            "\n",
            "♥♥♥♥♥♥♥♥♥♥♥♥♥♥♥♥♥♥♥♥♥♥♥♥♥♥♥♥♥♥♥♥♥♥♥♥♥♥♥♥♥♥♥♥♥♥♥♥♥♥♥♥♥♥♥♥♥♥♥♥♥♥\n",
            "¿Desea lanzar los dados nuevamente?: S/N      S\n",
            "El dado uno, cayó en: 4 y el dado dos, cayó en: 2\n",
            "La suma de los dados lanzados es: 6\n",
            "\n",
            "♥♥♥♥♥♥♥♥♥♥♥♥♥♥♥♥♥♥♥♥♥♥♥♥♥♥♥♥♥♥♥♥♥♥♥♥♥♥♥♥♥♥♥♥♥♥♥♥♥♥♥♥♥♥♥♥♥♥♥♥♥♥\n",
            "¿Desea lanzar los dados nuevamente?: S/N      N\n"
          ]
        }
      ],
      "source": [
        "from types import EllipsisType\n",
        "import random;\n",
        "print(\"♥♥♥♥♥♥♥♥♥♥♥♥♥♥♥♥♥♥♥♥♥♥♥♥♥♥♥♥♥♥♥♥♥♥♥♥♥♥♥♥♥♥♥♥♥♥♥♥♥♥♥♥♥♥♥♥♥♥♥♥♥♥\")\n",
        "nombre= input(\"Hola, ¿cual es su nombre?: \");\n",
        "print(\"Bienvenido al Simulador de Lanzamiento de Dados \" + (nombre) +\"\\n\");\n",
        "print(\"♥♥♥♥♥♥♥♥♥♥♥♥♥♥♥♥♥♥♥♥♥♥♥♥♥♥♥♥♥♥♥♥♥♥♥♥♥♥♥♥♥♥♥♥♥♥♥♥♥♥♥♥♥♥♥♥♥♥♥♥♥♥\")\n",
        "res = input(\"¿Desea lanzar los dados?: S/N   \" ) ;\n",
        "while(res== 'S'):\n",
        "    if(res!= 'S'):\n",
        "      break\n",
        "    n1 = random.randint(1,6);\n",
        "    n2 = random.randint(1,6);\n",
        "    print(\"El dado uno, cayó en: \" + str(n1) + \" y el dado dos, cayó en: \" + str(n2));\n",
        "    print(\"La suma de los dados lanzados es: \" + str(n1 + n2) + \"\\n\");\n",
        "    print(\"♥♥♥♥♥♥♥♥♥♥♥♥♥♥♥♥♥♥♥♥♥♥♥♥♥♥♥♥♥♥♥♥♥♥♥♥♥♥♥♥♥♥♥♥♥♥♥♥♥♥♥♥♥♥♥♥♥♥♥♥♥♥\")\n",
        "    res = input(\"¿Desea lanzar los dados nuevamente?: S/N      \" ) ;\n",
        "\n",
        "\n",
        "\n"
      ]
    }
  ]
}